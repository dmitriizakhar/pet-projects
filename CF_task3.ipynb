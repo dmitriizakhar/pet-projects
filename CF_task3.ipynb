{
 "cells": [
  {
   "cell_type": "markdown",
   "id": "be0c48af",
   "metadata": {},
   "source": [
    "# Задача 3: Проверка гипотез\n",
    "**Главная страница Яндекса.** Поменяли местами иконки \"Маркет\" и \"Карты\" над строкой поиска. Необходимо проверить повлияло ли изменение и стали ли пользователи чаще кликать на иконку \"Маркета\" по возвращению на сайт\n",
    "\n",
    "Формула кликабельности иконки маркета\n",
    "\n",
    "$$\\text{CTR} = \\frac{\\sum_{c_{i} \\in C} \\text{Clicks }}{\\sum_{s_{i} \\in S} \\text{Sessions } }$$\n",
    "\n",
    "### Описание колонок\n",
    "\n",
    "- `user_id` – идентификатор пользователя\n",
    "- `session_id` – идентификатор сессии\n",
    "- `click_id` – идентификатор клика\n",
    "- `experimentVariant` – вариант эксперимента\n",
    "\n",
    "### Задача\n",
    "\n",
    "1. Проверьте гипотезу о кликабельности иконки с помощью метрики CTR (click-through-rate)\n",
    "2. Напишите выводы, которые можно сделать на основе анализа результатов"
   ]
  },
  {
   "cell_type": "markdown",
   "id": "4ddb5eb4",
   "metadata": {},
   "source": [
    "## Загрузка и изучение датасета"
   ]
  },
  {
   "cell_type": "code",
   "execution_count": 1,
   "id": "83b50133",
   "metadata": {},
   "outputs": [],
   "source": [
    "import pandas as pd\n",
    "import seaborn as sns\n",
    "import matplotlib.pyplot as plt\n",
    "from scipy import stats as st\n",
    "import warnings\n",
    "\n",
    "warnings.filterwarnings('ignore')"
   ]
  },
  {
   "cell_type": "code",
   "execution_count": 2,
   "id": "fde5d425",
   "metadata": {},
   "outputs": [],
   "source": [
    "data = pd.read_csv('case_ctr.csv', index_col = 'Unnamed: 0', sep = ';')"
   ]
  },
  {
   "cell_type": "code",
   "execution_count": 3,
   "id": "29b6e950",
   "metadata": {},
   "outputs": [
    {
     "data": {
      "text/html": [
       "<div>\n",
       "<style scoped>\n",
       "    .dataframe tbody tr th:only-of-type {\n",
       "        vertical-align: middle;\n",
       "    }\n",
       "\n",
       "    .dataframe tbody tr th {\n",
       "        vertical-align: top;\n",
       "    }\n",
       "\n",
       "    .dataframe thead th {\n",
       "        text-align: right;\n",
       "    }\n",
       "</style>\n",
       "<table border=\"1\" class=\"dataframe\">\n",
       "  <thead>\n",
       "    <tr style=\"text-align: right;\">\n",
       "      <th></th>\n",
       "      <th>user_id</th>\n",
       "      <th>session_id</th>\n",
       "      <th>click_id</th>\n",
       "      <th>experimentVariant</th>\n",
       "    </tr>\n",
       "  </thead>\n",
       "  <tbody>\n",
       "    <tr>\n",
       "      <th>1</th>\n",
       "      <td>4299b8c9c50c3e4e8a067f448426463e</td>\n",
       "      <td>08f9c3b0e2ff8da7bad6cc200fa735a2</td>\n",
       "      <td>56bcee80ce68ddc58c178a63288965b2</td>\n",
       "      <td>1</td>\n",
       "    </tr>\n",
       "    <tr>\n",
       "      <th>2</th>\n",
       "      <td>863829e0fc8e0dcd88f44c6a63db836a</td>\n",
       "      <td>d0ebf6ddaa8702e6de4e46854a1136ff</td>\n",
       "      <td>b209c6b14e91606a99d637ff6eb74cc6</td>\n",
       "      <td>1</td>\n",
       "    </tr>\n",
       "    <tr>\n",
       "      <th>3</th>\n",
       "      <td>640af3312483bea44b8159a8caaf0b3d</td>\n",
       "      <td>838c4a718830b5f1ac7be5e70745ff47</td>\n",
       "      <td>3f3d510c709ae5d9bae0331fcf776f3a</td>\n",
       "      <td>1</td>\n",
       "    </tr>\n",
       "    <tr>\n",
       "      <th>4</th>\n",
       "      <td>43de481cae63944b81db6fd5567a12bb</td>\n",
       "      <td>8f36aead1ceafb3e67f9957a7765549e</td>\n",
       "      <td>da73306047217a73a6ee0ea7477f2ad7</td>\n",
       "      <td>0</td>\n",
       "    </tr>\n",
       "    <tr>\n",
       "      <th>5</th>\n",
       "      <td>b84dd1a6c3df2e08eb7bef496cdf6d39</td>\n",
       "      <td>09799cdf1394b0e4b86ace899b7f218e</td>\n",
       "      <td>6e4b93932be600a5536c291888996037</td>\n",
       "      <td>1</td>\n",
       "    </tr>\n",
       "  </tbody>\n",
       "</table>\n",
       "</div>"
      ],
      "text/plain": [
       "                            user_id                        session_id  \\\n",
       "1  4299b8c9c50c3e4e8a067f448426463e  08f9c3b0e2ff8da7bad6cc200fa735a2   \n",
       "2  863829e0fc8e0dcd88f44c6a63db836a  d0ebf6ddaa8702e6de4e46854a1136ff   \n",
       "3  640af3312483bea44b8159a8caaf0b3d  838c4a718830b5f1ac7be5e70745ff47   \n",
       "4  43de481cae63944b81db6fd5567a12bb  8f36aead1ceafb3e67f9957a7765549e   \n",
       "5  b84dd1a6c3df2e08eb7bef496cdf6d39  09799cdf1394b0e4b86ace899b7f218e   \n",
       "\n",
       "                           click_id  experimentVariant  \n",
       "1  56bcee80ce68ddc58c178a63288965b2                  1  \n",
       "2  b209c6b14e91606a99d637ff6eb74cc6                  1  \n",
       "3  3f3d510c709ae5d9bae0331fcf776f3a                  1  \n",
       "4  da73306047217a73a6ee0ea7477f2ad7                  0  \n",
       "5  6e4b93932be600a5536c291888996037                  1  "
      ]
     },
     "execution_count": 3,
     "metadata": {},
     "output_type": "execute_result"
    }
   ],
   "source": [
    "data.head()"
   ]
  },
  {
   "cell_type": "code",
   "execution_count": 4,
   "id": "20af6547",
   "metadata": {},
   "outputs": [
    {
     "name": "stdout",
     "output_type": "stream",
     "text": [
      "<class 'pandas.core.frame.DataFrame'>\n",
      "Int64Index: 10000 entries, 1 to 10000\n",
      "Data columns (total 4 columns):\n",
      " #   Column             Non-Null Count  Dtype \n",
      "---  ------             --------------  ----- \n",
      " 0   user_id            10000 non-null  object\n",
      " 1   session_id         10000 non-null  object\n",
      " 2   click_id           7655 non-null   object\n",
      " 3   experimentVariant  10000 non-null  int64 \n",
      "dtypes: int64(1), object(3)\n",
      "memory usage: 390.6+ KB\n"
     ]
    }
   ],
   "source": [
    "data.info()"
   ]
  },
  {
   "cell_type": "markdown",
   "id": "617e1dbb",
   "metadata": {},
   "source": [
    "Имеем идентификаторы пользоватлей, сессий и кликов, разбивку на тестовую и контрольную группы. Всего 10000 строк, часть значений колонки click_id обозначена NaN. Проведем исследовательский анализ и проверим верность разделения пользователй на группы. "
   ]
  },
  {
   "cell_type": "markdown",
   "id": "67d0e186",
   "metadata": {},
   "source": [
    "## Исследовательский анализ данных"
   ]
  },
  {
   "cell_type": "markdown",
   "id": "fbe0c32b",
   "metadata": {},
   "source": [
    "Сгруппируем сессии и клики пользователей, посмотрим топ значений"
   ]
  },
  {
   "cell_type": "code",
   "execution_count": 5,
   "id": "4af4cefe",
   "metadata": {},
   "outputs": [],
   "source": [
    "user_session_gb = data.groupby('user_id', as_index = False)\\\n",
    "                                .agg({'session_id': 'count',\n",
    "                                     'click_id': 'count',\n",
    "                                     'experimentVariant': 'first'})"
   ]
  },
  {
   "cell_type": "code",
   "execution_count": 6,
   "id": "d591ec0e",
   "metadata": {},
   "outputs": [
    {
     "data": {
      "text/html": [
       "<div>\n",
       "<style scoped>\n",
       "    .dataframe tbody tr th:only-of-type {\n",
       "        vertical-align: middle;\n",
       "    }\n",
       "\n",
       "    .dataframe tbody tr th {\n",
       "        vertical-align: top;\n",
       "    }\n",
       "\n",
       "    .dataframe thead th {\n",
       "        text-align: right;\n",
       "    }\n",
       "</style>\n",
       "<table border=\"1\" class=\"dataframe\">\n",
       "  <thead>\n",
       "    <tr style=\"text-align: right;\">\n",
       "      <th></th>\n",
       "      <th>user_id</th>\n",
       "      <th>session_id</th>\n",
       "      <th>click_id</th>\n",
       "      <th>experimentVariant</th>\n",
       "    </tr>\n",
       "  </thead>\n",
       "  <tbody>\n",
       "    <tr>\n",
       "      <th>602</th>\n",
       "      <td>45f8c7d7bd3f733e7d75b74ae816aace</td>\n",
       "      <td>13</td>\n",
       "      <td>12</td>\n",
       "      <td>1</td>\n",
       "    </tr>\n",
       "    <tr>\n",
       "      <th>1345</th>\n",
       "      <td>9b5c0c541c2b13e6704e77281730e6f5</td>\n",
       "      <td>12</td>\n",
       "      <td>12</td>\n",
       "      <td>1</td>\n",
       "    </tr>\n",
       "    <tr>\n",
       "      <th>911</th>\n",
       "      <td>661c984151d8ac7ce7a9f63f5b9ef4ca</td>\n",
       "      <td>12</td>\n",
       "      <td>11</td>\n",
       "      <td>0</td>\n",
       "    </tr>\n",
       "    <tr>\n",
       "      <th>1443</th>\n",
       "      <td>a6753c12d498865de282559114c1a0c7</td>\n",
       "      <td>11</td>\n",
       "      <td>11</td>\n",
       "      <td>1</td>\n",
       "    </tr>\n",
       "    <tr>\n",
       "      <th>328</th>\n",
       "      <td>295da1d8d9887942fea0abba07121991</td>\n",
       "      <td>11</td>\n",
       "      <td>11</td>\n",
       "      <td>0</td>\n",
       "    </tr>\n",
       "    <tr>\n",
       "      <th>1563</th>\n",
       "      <td>b142f1491ca9555d60503685e333030d</td>\n",
       "      <td>12</td>\n",
       "      <td>11</td>\n",
       "      <td>0</td>\n",
       "    </tr>\n",
       "    <tr>\n",
       "      <th>1729</th>\n",
       "      <td>c5b28eefd597185ff31411971d46d2ce</td>\n",
       "      <td>13</td>\n",
       "      <td>11</td>\n",
       "      <td>1</td>\n",
       "    </tr>\n",
       "    <tr>\n",
       "      <th>1794</th>\n",
       "      <td>cd0160d26293652422e9641f9ff43973</td>\n",
       "      <td>12</td>\n",
       "      <td>10</td>\n",
       "      <td>0</td>\n",
       "    </tr>\n",
       "    <tr>\n",
       "      <th>1717</th>\n",
       "      <td>c3521fa486d0aeff3175ddf78f3bdb30</td>\n",
       "      <td>11</td>\n",
       "      <td>10</td>\n",
       "      <td>0</td>\n",
       "    </tr>\n",
       "    <tr>\n",
       "      <th>229</th>\n",
       "      <td>1c8aa245ea2d463c2cd57440de5b6ba5</td>\n",
       "      <td>10</td>\n",
       "      <td>10</td>\n",
       "      <td>0</td>\n",
       "    </tr>\n",
       "  </tbody>\n",
       "</table>\n",
       "</div>"
      ],
      "text/plain": [
       "                               user_id  session_id  click_id  \\\n",
       "602   45f8c7d7bd3f733e7d75b74ae816aace          13        12   \n",
       "1345  9b5c0c541c2b13e6704e77281730e6f5          12        12   \n",
       "911   661c984151d8ac7ce7a9f63f5b9ef4ca          12        11   \n",
       "1443  a6753c12d498865de282559114c1a0c7          11        11   \n",
       "328   295da1d8d9887942fea0abba07121991          11        11   \n",
       "1563  b142f1491ca9555d60503685e333030d          12        11   \n",
       "1729  c5b28eefd597185ff31411971d46d2ce          13        11   \n",
       "1794  cd0160d26293652422e9641f9ff43973          12        10   \n",
       "1717  c3521fa486d0aeff3175ddf78f3bdb30          11        10   \n",
       "229   1c8aa245ea2d463c2cd57440de5b6ba5          10        10   \n",
       "\n",
       "      experimentVariant  \n",
       "602                   1  \n",
       "1345                  1  \n",
       "911                   0  \n",
       "1443                  1  \n",
       "328                   0  \n",
       "1563                  0  \n",
       "1729                  1  \n",
       "1794                  0  \n",
       "1717                  0  \n",
       "229                   0  "
      ]
     },
     "execution_count": 6,
     "metadata": {},
     "output_type": "execute_result"
    }
   ],
   "source": [
    "user_session_gb.sort_values('click_id', ascending = False).head(10)"
   ]
  },
  {
   "cell_type": "code",
   "execution_count": 7,
   "id": "7e65a209",
   "metadata": {},
   "outputs": [
    {
     "data": {
      "text/plain": [
       "count    2246.000000\n",
       "mean        4.452360\n",
       "std         2.250504\n",
       "min         1.000000\n",
       "25%         3.000000\n",
       "50%         4.000000\n",
       "75%         6.000000\n",
       "max        13.000000\n",
       "Name: session_id, dtype: float64"
      ]
     },
     "execution_count": 7,
     "metadata": {},
     "output_type": "execute_result"
    }
   ],
   "source": [
    "user_session_gb.session_id.describe()"
   ]
  },
  {
   "cell_type": "code",
   "execution_count": 8,
   "id": "1753b539",
   "metadata": {},
   "outputs": [
    {
     "data": {
      "text/plain": [
       "count    2246.000000\n",
       "mean        3.408281\n",
       "std         1.956385\n",
       "min         0.000000\n",
       "25%         2.000000\n",
       "50%         3.000000\n",
       "75%         5.000000\n",
       "max        12.000000\n",
       "Name: click_id, dtype: float64"
      ]
     },
     "execution_count": 8,
     "metadata": {},
     "output_type": "execute_result"
    }
   ],
   "source": [
    "user_session_gb.click_id.describe()"
   ]
  },
  {
   "cell_type": "markdown",
   "id": "e7d1d43c",
   "metadata": {},
   "source": [
    "Визуально не наблюдаем явных выбросов или перекоса в одной из групп, посмотрим на рапределения. "
   ]
  },
  {
   "cell_type": "code",
   "execution_count": 9,
   "id": "d96f34a6",
   "metadata": {},
   "outputs": [
    {
     "data": {
      "image/png": "[encoded data removed]",
      "text/plain": [
       "<Figure size 432x288 with 1 Axes>"
      ]
     },
     "metadata": {
      "needs_background": "light"
     },
     "output_type": "display_data"
    },
    {
     "data": {
      "image/png": "[encoded data removed]",
      "text/plain": [
       "<Figure size 432x288 with 1 Axes>"
      ]
     },
     "metadata": {
      "needs_background": "light"
     },
     "output_type": "display_data"
    }
   ],
   "source": [
    "sns.boxplot(data = user_session_gb, x = 'experimentVariant', y = 'session_id')\n",
    "plt.title('Распределение сессий')\n",
    "plt.xlabel('Группа')\n",
    "plt.ylabel('Число сессий пользователей')\n",
    "plt.show()\n",
    "sns.boxplot(data = user_session_gb, x = 'experimentVariant', y = 'click_id')\n",
    "plt.title('Распределение кликов')\n",
    "plt.xlabel('Группа')\n",
    "plt.ylabel('Число кликов пользователей')\n",
    "plt.show()"
   ]
  },
  {
   "cell_type": "code",
   "execution_count": 10,
   "id": "0ad7e2ac",
   "metadata": {},
   "outputs": [
    {
     "data": {
      "image/png": "[encoded data removed]",
      "text/plain": [
       "<Figure size 432x288 with 1 Axes>"
      ]
     },
     "metadata": {
      "needs_background": "light"
     },
     "output_type": "display_data"
    }
   ],
   "source": [
    "sns.distplot(user_session_gb.session_id)\n",
    "sns.distplot(user_session_gb.click_id)\n",
    "plt.legend(['session', 'click'])\n",
    "plt.title('Распределение сессий и кликов')\n",
    "plt.xlabel('Число сессий/кликов пользователя')\n",
    "plt.ylabel('Доля')\n",
    "plt.show()"
   ]
  },
  {
   "cell_type": "code",
   "execution_count": 11,
   "id": "ab683023",
   "metadata": {},
   "outputs": [
    {
     "data": {
      "image/png": "[encoded data removed]",
      "text/plain": [
       "<Figure size 432x288 with 1 Axes>"
      ]
     },
     "metadata": {
      "needs_background": "light"
     },
     "output_type": "display_data"
    }
   ],
   "source": [
    "sns.distplot(user_session_gb.query('experimentVariant==0').session_id)\n",
    "sns.distplot(user_session_gb.query('experimentVariant==1').session_id)\n",
    "plt.legend([0, 1])\n",
    "plt.title('Распределение сессий по группам')\n",
    "plt.xlabel('Число сессий пользователей')\n",
    "plt.ylabel('Доля')\n",
    "plt.show()"
   ]
  },
  {
   "cell_type": "code",
   "execution_count": 12,
   "id": "e5936d8d",
   "metadata": {},
   "outputs": [
    {
     "data": {
      "image/png": "[encoded data removed]",
      "text/plain": [
       "<Figure size 432x288 with 1 Axes>"
      ]
     },
     "metadata": {
      "needs_background": "light"
     },
     "output_type": "display_data"
    }
   ],
   "source": [
    "sns.distplot(user_session_gb.query('experimentVariant==0').click_id)\n",
    "sns.distplot(user_session_gb.query('experimentVariant==1').click_id)\n",
    "plt.legend([0, 1])\n",
    "plt.title('Распределение кликов по группам')\n",
    "plt.xlabel('Число кликов пользователей')\n",
    "plt.ylabel('Доля')\n",
    "plt.show()"
   ]
  },
  {
   "cell_type": "markdown",
   "id": "dca00478",
   "metadata": {},
   "source": [
    "Отфильтруем значения выше верхней границы"
   ]
  },
  {
   "cell_type": "code",
   "execution_count": 13,
   "id": "5657a7b4",
   "metadata": {},
   "outputs": [
    {
     "data": {
      "text/plain": [
       "0    19\n",
       "1    14\n",
       "Name: experimentVariant, dtype: int64"
      ]
     },
     "execution_count": 13,
     "metadata": {},
     "output_type": "execute_result"
    }
   ],
   "source": [
    "user_session_gb.query('session_id > 10 | click_id > 9')['experimentVariant'].value_counts()"
   ]
  },
  {
   "cell_type": "code",
   "execution_count": 14,
   "id": "8e279882",
   "metadata": {},
   "outputs": [],
   "source": [
    "users_blowout = set(user_session_gb.query('session_id > 10 | click_id > 9').user_id)\n",
    "data_clean = data[data.user_id.isin(list(set(data.user_id) ^ users_blowout))]"
   ]
  },
  {
   "cell_type": "code",
   "execution_count": 15,
   "id": "ba2bc60c",
   "metadata": {},
   "outputs": [
    {
     "name": "stdout",
     "output_type": "stream",
     "text": [
      "Мы удалили 3.77% строк\n"
     ]
    }
   ],
   "source": [
    "print('Мы удалили {:.2%} строк'.format(1 - len(data_clean) / len(data)))"
   ]
  },
  {
   "cell_type": "code",
   "execution_count": 16,
   "id": "1904740b",
   "metadata": {},
   "outputs": [],
   "source": [
    "group_a = data_clean.query('experimentVariant==0')\n",
    "group_b = data_clean.query('experimentVariant==1')"
   ]
  },
  {
   "cell_type": "markdown",
   "id": "bd93b586",
   "metadata": {},
   "source": [
    "Разделили группы, проверим пересечения пользователей и размеры выборок в группах. "
   ]
  },
  {
   "cell_type": "code",
   "execution_count": 17,
   "id": "69120a76",
   "metadata": {},
   "outputs": [
    {
     "name": "stdout",
     "output_type": "stream",
     "text": [
      "Число пользователей, входящих в обе группы - 0\n"
     ]
    }
   ],
   "source": [
    "print('Число пользователей, входящих в обе группы -', \\\n",
    "      len(set(group_a.user_id.unique()) & set(group_b.user_id.unique())))"
   ]
  },
  {
   "cell_type": "code",
   "execution_count": 18,
   "id": "614fd431",
   "metadata": {},
   "outputs": [
    {
     "name": "stdout",
     "output_type": "stream",
     "text": [
      "В группе A 1110 пользователей - 50.16% выборки\n",
      "В группе B 1103 пользователей - 49.84% выборки\n"
     ]
    }
   ],
   "source": [
    "print('В группе A {} пользователей - {:.2f}% выборки' \\\n",
    "      .format(len(group_a.user_id.unique()),\\\n",
    "              len(group_a.user_id.unique())/len(data_clean.user_id.unique())*100))\n",
    "print('В группе B {} пользователей - {:.2f}% выборки' \\\n",
    "      .format(len(group_b.user_id.unique()),\\\n",
    "              len(group_b.user_id.unique())/len(data_clean.user_id.unique())*100))"
   ]
  },
  {
   "cell_type": "code",
   "execution_count": 19,
   "id": "131541da",
   "metadata": {},
   "outputs": [
    {
     "name": "stdout",
     "output_type": "stream",
     "text": [
      "В группе A 4897 сессий - 50.89% выборки\n",
      "В группе B 4726 сессий - 49.11% выборки\n"
     ]
    }
   ],
   "source": [
    "print('В группе A {} сессий - {:.2f}% выборки' \\\n",
    "      .format(len(group_a.session_id),\\\n",
    "              len(group_a.session_id)/len(data_clean.user_id)*100))\n",
    "print('В группе B {} сессий - {:.2f}% выборки' \\\n",
    "      .format(len(group_b.session_id),\\\n",
    "              len(group_b.session_id)/len(data_clean.user_id)*100))"
   ]
  },
  {
   "cell_type": "markdown",
   "id": "96a47384",
   "metadata": {},
   "source": [
    "Посчитаем кумулятивные клики и конверсии в группах"
   ]
  },
  {
   "cell_type": "code",
   "execution_count": 20,
   "id": "feffd3be",
   "metadata": {},
   "outputs": [],
   "source": [
    "# перекодируем идентификаторы для удобства подсчета\n",
    "encoder = lambda x: 0 if x != x else 1\n",
    "group_a.session_id = group_a.session_id.apply(encoder)\n",
    "group_a.click_id = group_a.click_id.apply(encoder)\n",
    "\n",
    "group_b.session_id = group_b.session_id.apply(encoder)\n",
    "group_b.click_id = group_b.click_id.apply(encoder)"
   ]
  },
  {
   "cell_type": "code",
   "execution_count": 21,
   "id": "b808ce21",
   "metadata": {},
   "outputs": [],
   "source": [
    "group_a['cum_session'] = group_a.session_id.cumsum()\n",
    "group_a['cum_click'] = group_a.click_id.cumsum()\n",
    "group_a['ctr'] = group_a['cum_click'] / group_a['cum_session']\n",
    "\n",
    "group_b['cum_session'] = group_b.session_id.cumsum()\n",
    "group_b['cum_click'] = group_b.click_id.cumsum()\n",
    "group_b['ctr'] = group_b['cum_click'] / group_b['cum_session']"
   ]
  },
  {
   "cell_type": "code",
   "execution_count": 22,
   "id": "bce9e4fe",
   "metadata": {},
   "outputs": [
    {
     "data": {
      "text/plain": [
       "<matplotlib.legend.Legend at 0x7fa3382237c0>"
      ]
     },
     "execution_count": 22,
     "metadata": {},
     "output_type": "execute_result"
    },
    {
     "data": {
      "image/png": "[encoded data removed]",
      "text/plain": [
       "<Figure size 720x360 with 1 Axes>"
      ]
     },
     "metadata": {
      "needs_background": "light"
     },
     "output_type": "display_data"
    }
   ],
   "source": [
    "plt.figure(figsize=(10, 5))\n",
    "sns.lineplot(x = range(len(group_a)), y = group_a['cum_click'])\n",
    "sns.lineplot(x = range(len(group_b)), y = group_b['cum_click'])\n",
    "plt.title('График кумулятивных кликов по группам')\n",
    "plt.ylabel('число кликов')\n",
    "plt.xlabel('индекс')\n",
    "plt.legend([0,1])"
   ]
  },
  {
   "cell_type": "code",
   "execution_count": 23,
   "id": "137e21f5",
   "metadata": {},
   "outputs": [
    {
     "data": {
      "text/plain": [
       "Text(0.5, 0, 'индекс')"
      ]
     },
     "execution_count": 23,
     "metadata": {},
     "output_type": "execute_result"
    },
    {
     "data": {
      "image/png": "[encoded data removed]",
      "text/plain": [
       "<Figure size 720x360 with 1 Axes>"
      ]
     },
     "metadata": {
      "needs_background": "light"
     },
     "output_type": "display_data"
    }
   ],
   "source": [
    "plt.figure(figsize=(10, 5))\n",
    "sns.lineplot(x = range(len(group_a)), y = group_a['ctr'])\n",
    "sns.lineplot(x = range(len(group_b)), y = group_b['ctr'], alpha  = 0.8)\n",
    "plt.title('График кумулятивного ctr по группам')\n",
    "plt.legend([0,1])\n",
    "plt.ylabel('ctr')\n",
    "plt.xlabel('индекс')"
   ]
  },
  {
   "cell_type": "markdown",
   "id": "c107490f",
   "metadata": {},
   "source": [
    "Мы изучили распределение сессий и кликов, распределния в разбивке групп. Группы имеют похожие распределения. Отфильтровали значения по верхней границе, удалили 3.77% выборки для получения качественного результата. Группы не имеют пересечения по пользователям, выборка разделена пополам на тестовую и контрольную группы. "
   ]
  },
  {
   "cell_type": "markdown",
   "id": "466b0d52",
   "metadata": {},
   "source": [
    "## Анализ результатов эксперимента"
   ]
  },
  {
   "cell_type": "markdown",
   "id": "b99284dd",
   "metadata": {},
   "source": [
    "Проверим данные на нормальность распределения, ипользуя тест Шапиро-Уилка.   \n",
    "H0 - данные распределены нормально  \n",
    "H1 - данные не подчиняются нормальному распределению  "
   ]
  },
  {
   "cell_type": "code",
   "execution_count": 24,
   "id": "62fe9f61",
   "metadata": {},
   "outputs": [
    {
     "name": "stdout",
     "output_type": "stream",
     "text": [
      "p_value A Shapiro–Wilk: 0.00\n",
      "p_value A Shapiro–Wilk: 0.00\n"
     ]
    }
   ],
   "source": [
    "print('p_value A Shapiro–Wilk: {:.2f}'.format(st.shapiro(group_a.click_id)[1]))\n",
    "print('p_value A Shapiro–Wilk: {:.2f}'.format(st.shapiro(group_b.click_id)[1]))"
   ]
  },
  {
   "cell_type": "markdown",
   "id": "bfc850ee",
   "metadata": {},
   "source": [
    "P значение меньше уровня значимость 0.05, отклоняем нулевую гипотезу, данные не подчиняются закону нормального распределения."
   ]
  },
  {
   "cell_type": "markdown",
   "id": "3b35e167",
   "metadata": {},
   "source": [
    "Гипотеза H0 - CTR групп равны  \n",
    "Альтернативная гипотеза H1 - CTR групп не равны\n",
    "\n",
    "Имеем независимые выборки, данные не подчиняются закону нормального распределния, для проверки гипотезы будем использовать непараметрический Критерий Манна-Уитни."
   ]
  },
  {
   "cell_type": "code",
   "execution_count": 25,
   "id": "a59d5050",
   "metadata": {},
   "outputs": [
    {
     "name": "stdout",
     "output_type": "stream",
     "text": [
      "p_value: 0.06678\n",
      "CTR группы A = 0.77\n",
      "CTR группы B = 0.76\n",
      "Относительные различия в CTR: 0.021\n"
     ]
    }
   ],
   "source": [
    "print('p_value: {:.5f}'.format(\n",
    "    st.mannwhitneyu(group_a.click_id, group_b.click_id,\n",
    "            alternative = 'two-sided')[1]))\n",
    "print('CTR группы A = {:.2f}'.format(group_a.click_id.sum() / group_a.session_id.sum()))\n",
    "print('CTR группы B = {:.2f}'.format(group_b.click_id.sum() / group_b.session_id.sum()))\n",
    "\n",
    "print('Относительные различия в CTR: {0:.3f}' \\\n",
    "      .format((group_a.click_id.sum() / group_a.session_id.sum()) / \n",
    "              (group_b.click_id.sum() / group_b.session_id.sum())-1))"
   ]
  },
  {
   "cell_type": "markdown",
   "id": "8a22ce6f",
   "metadata": {},
   "source": [
    "Так как p значение больше уровня значимости 0.05, гипотеза H0 не отвергается, CTR групп равны. Изменения не повляили на клики иконки маркета. "
   ]
  },
  {
   "cell_type": "markdown",
   "id": "fdee2974",
   "metadata": {},
   "source": [
    "### Вывод"
   ]
  },
  {
   "cell_type": "markdown",
   "id": "855d20e9",
   "metadata": {},
   "source": [
    "Мы изучили распределение сессий и кликов, распределния в разбивке групп. Группы имеют похожие распределения. Отфильтровали значения по верхней границе, удалили экстремальные 3.77% выборки для получения качественного результата. Группы не имеют пересечения по пользователям, выборка разделена пополам на тестовую и контрольную группы. На одного пользователя приходится медианно 4 сессии и 3 клика на иконку.\n",
    "\n",
    "Используя критерий Манна-Уитни проверили гипотезу о кликабельности иконки с помощью метрики CTR (группа 0 - 0.77, группа 1 - 0.076). CTR тестовой и контрольной группы статистически неразличимы, изменения не повлияли на клики иконки маркета. \n",
    "\n",
    "Изменение мест маркета и карт не привело к увеличению кликов на маркет, если мы хотим добиться увеличения сtr посредством сзменения положения сервиса на главной странце, то можем запустить эксперимент и подвинуть маркет в начало бара иконок, либо протестировать отдельный виджет. "
   ]
  }
 ],
 "metadata": {
  "kernelspec": {
   "display_name": "Python 3",
   "language": "python",
   "name": "python3"
  },
  "language_info": {
   "codemirror_mode": {
    "name": "ipython",
    "version": 3
   },
   "file_extension": ".py",
   "mimetype": "text/x-python",
   "name": "python",
   "nbconvert_exporter": "python",
   "pygments_lexer": "ipython3",
   "version": "3.8.8"
  }
 },
 "nbformat": 4,
 "nbformat_minor": 5
}
